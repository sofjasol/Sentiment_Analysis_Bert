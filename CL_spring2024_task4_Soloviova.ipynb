{
  "nbformat": 4,
  "nbformat_minor": 0,
  "metadata": {
    "colab": {
      "provenance": [],
      "gpuType": "T4"
    },
    "kernelspec": {
      "name": "python3",
      "display_name": "Python 3"
    },
    "language_info": {
      "name": "python"
    },
    "accelerator": "GPU"
  },
  "cells": [
    {
      "cell_type": "code",
      "execution_count": null,
      "metadata": {
        "colab": {
          "base_uri": "https://localhost:8080/"
        },
        "id": "EODshTzQUTWV",
        "outputId": "ea7c0f02-10e9-4827-d47f-2ca911c73b3f"
      },
      "outputs": [
        {
          "output_type": "stream",
          "name": "stdout",
          "text": [
            "Collecting datasets\n",
            "  Downloading datasets-3.3.2-py3-none-any.whl.metadata (19 kB)\n",
            "Requirement already satisfied: filelock in /usr/local/lib/python3.11/dist-packages (from datasets) (3.17.0)\n",
            "Requirement already satisfied: numpy>=1.17 in /usr/local/lib/python3.11/dist-packages (from datasets) (1.26.4)\n",
            "Requirement already satisfied: pyarrow>=15.0.0 in /usr/local/lib/python3.11/dist-packages (from datasets) (17.0.0)\n",
            "Collecting dill<0.3.9,>=0.3.0 (from datasets)\n",
            "  Downloading dill-0.3.8-py3-none-any.whl.metadata (10 kB)\n",
            "Requirement already satisfied: pandas in /usr/local/lib/python3.11/dist-packages (from datasets) (2.2.2)\n",
            "Requirement already satisfied: requests>=2.32.2 in /usr/local/lib/python3.11/dist-packages (from datasets) (2.32.3)\n",
            "Requirement already satisfied: tqdm>=4.66.3 in /usr/local/lib/python3.11/dist-packages (from datasets) (4.67.1)\n",
            "Collecting xxhash (from datasets)\n",
            "  Downloading xxhash-3.5.0-cp311-cp311-manylinux_2_17_x86_64.manylinux2014_x86_64.whl.metadata (12 kB)\n",
            "Collecting multiprocess<0.70.17 (from datasets)\n",
            "  Downloading multiprocess-0.70.16-py311-none-any.whl.metadata (7.2 kB)\n",
            "Requirement already satisfied: fsspec<=2024.12.0,>=2023.1.0 in /usr/local/lib/python3.11/dist-packages (from fsspec[http]<=2024.12.0,>=2023.1.0->datasets) (2024.10.0)\n",
            "Requirement already satisfied: aiohttp in /usr/local/lib/python3.11/dist-packages (from datasets) (3.11.12)\n",
            "Requirement already satisfied: huggingface-hub>=0.24.0 in /usr/local/lib/python3.11/dist-packages (from datasets) (0.28.1)\n",
            "Requirement already satisfied: packaging in /usr/local/lib/python3.11/dist-packages (from datasets) (24.2)\n",
            "Requirement already satisfied: pyyaml>=5.1 in /usr/local/lib/python3.11/dist-packages (from datasets) (6.0.2)\n",
            "Requirement already satisfied: aiohappyeyeballs>=2.3.0 in /usr/local/lib/python3.11/dist-packages (from aiohttp->datasets) (2.4.6)\n",
            "Requirement already satisfied: aiosignal>=1.1.2 in /usr/local/lib/python3.11/dist-packages (from aiohttp->datasets) (1.3.2)\n",
            "Requirement already satisfied: attrs>=17.3.0 in /usr/local/lib/python3.11/dist-packages (from aiohttp->datasets) (25.1.0)\n",
            "Requirement already satisfied: frozenlist>=1.1.1 in /usr/local/lib/python3.11/dist-packages (from aiohttp->datasets) (1.5.0)\n",
            "Requirement already satisfied: multidict<7.0,>=4.5 in /usr/local/lib/python3.11/dist-packages (from aiohttp->datasets) (6.1.0)\n",
            "Requirement already satisfied: propcache>=0.2.0 in /usr/local/lib/python3.11/dist-packages (from aiohttp->datasets) (0.2.1)\n",
            "Requirement already satisfied: yarl<2.0,>=1.17.0 in /usr/local/lib/python3.11/dist-packages (from aiohttp->datasets) (1.18.3)\n",
            "Requirement already satisfied: typing-extensions>=3.7.4.3 in /usr/local/lib/python3.11/dist-packages (from huggingface-hub>=0.24.0->datasets) (4.12.2)\n",
            "Requirement already satisfied: charset-normalizer<4,>=2 in /usr/local/lib/python3.11/dist-packages (from requests>=2.32.2->datasets) (3.4.1)\n",
            "Requirement already satisfied: idna<4,>=2.5 in /usr/local/lib/python3.11/dist-packages (from requests>=2.32.2->datasets) (3.10)\n",
            "Requirement already satisfied: urllib3<3,>=1.21.1 in /usr/local/lib/python3.11/dist-packages (from requests>=2.32.2->datasets) (2.3.0)\n",
            "Requirement already satisfied: certifi>=2017.4.17 in /usr/local/lib/python3.11/dist-packages (from requests>=2.32.2->datasets) (2025.1.31)\n",
            "Requirement already satisfied: python-dateutil>=2.8.2 in /usr/local/lib/python3.11/dist-packages (from pandas->datasets) (2.8.2)\n",
            "Requirement already satisfied: pytz>=2020.1 in /usr/local/lib/python3.11/dist-packages (from pandas->datasets) (2025.1)\n",
            "Requirement already satisfied: tzdata>=2022.7 in /usr/local/lib/python3.11/dist-packages (from pandas->datasets) (2025.1)\n",
            "Requirement already satisfied: six>=1.5 in /usr/local/lib/python3.11/dist-packages (from python-dateutil>=2.8.2->pandas->datasets) (1.17.0)\n",
            "Downloading datasets-3.3.2-py3-none-any.whl (485 kB)\n",
            "\u001b[2K   \u001b[90m━━━━━━━━━━━━━━━━━━━━━━━━━━━━━━━━━━━━━━━━\u001b[0m \u001b[32m485.4/485.4 kB\u001b[0m \u001b[31m11.4 MB/s\u001b[0m eta \u001b[36m0:00:00\u001b[0m\n",
            "\u001b[?25hDownloading dill-0.3.8-py3-none-any.whl (116 kB)\n",
            "\u001b[2K   \u001b[90m━━━━━━━━━━━━━━━━━━━━━━━━━━━━━━━━━━━━━━━━\u001b[0m \u001b[32m116.3/116.3 kB\u001b[0m \u001b[31m8.7 MB/s\u001b[0m eta \u001b[36m0:00:00\u001b[0m\n",
            "\u001b[?25hDownloading multiprocess-0.70.16-py311-none-any.whl (143 kB)\n",
            "\u001b[2K   \u001b[90m━━━━━━━━━━━━━━━━━━━━━━━━━━━━━━━━━━━━━━━━\u001b[0m \u001b[32m143.5/143.5 kB\u001b[0m \u001b[31m13.8 MB/s\u001b[0m eta \u001b[36m0:00:00\u001b[0m\n",
            "\u001b[?25hDownloading xxhash-3.5.0-cp311-cp311-manylinux_2_17_x86_64.manylinux2014_x86_64.whl (194 kB)\n",
            "\u001b[2K   \u001b[90m━━━━━━━━━━━━━━━━━━━━━━━━━━━━━━━━━━━━━━━━\u001b[0m \u001b[32m194.8/194.8 kB\u001b[0m \u001b[31m13.5 MB/s\u001b[0m eta \u001b[36m0:00:00\u001b[0m\n",
            "\u001b[?25hInstalling collected packages: xxhash, dill, multiprocess, datasets\n",
            "Successfully installed datasets-3.3.2 dill-0.3.8 multiprocess-0.70.16 xxhash-3.5.0\n",
            "Requirement already satisfied: transformers in /usr/local/lib/python3.11/dist-packages (4.48.3)\n",
            "Requirement already satisfied: filelock in /usr/local/lib/python3.11/dist-packages (from transformers) (3.17.0)\n",
            "Requirement already satisfied: huggingface-hub<1.0,>=0.24.0 in /usr/local/lib/python3.11/dist-packages (from transformers) (0.28.1)\n",
            "Requirement already satisfied: numpy>=1.17 in /usr/local/lib/python3.11/dist-packages (from transformers) (1.26.4)\n",
            "Requirement already satisfied: packaging>=20.0 in /usr/local/lib/python3.11/dist-packages (from transformers) (24.2)\n",
            "Requirement already satisfied: pyyaml>=5.1 in /usr/local/lib/python3.11/dist-packages (from transformers) (6.0.2)\n",
            "Requirement already satisfied: regex!=2019.12.17 in /usr/local/lib/python3.11/dist-packages (from transformers) (2024.11.6)\n",
            "Requirement already satisfied: requests in /usr/local/lib/python3.11/dist-packages (from transformers) (2.32.3)\n",
            "Requirement already satisfied: tokenizers<0.22,>=0.21 in /usr/local/lib/python3.11/dist-packages (from transformers) (0.21.0)\n",
            "Requirement already satisfied: safetensors>=0.4.1 in /usr/local/lib/python3.11/dist-packages (from transformers) (0.5.2)\n",
            "Requirement already satisfied: tqdm>=4.27 in /usr/local/lib/python3.11/dist-packages (from transformers) (4.67.1)\n",
            "Requirement already satisfied: fsspec>=2023.5.0 in /usr/local/lib/python3.11/dist-packages (from huggingface-hub<1.0,>=0.24.0->transformers) (2024.10.0)\n",
            "Requirement already satisfied: typing-extensions>=3.7.4.3 in /usr/local/lib/python3.11/dist-packages (from huggingface-hub<1.0,>=0.24.0->transformers) (4.12.2)\n",
            "Requirement already satisfied: charset-normalizer<4,>=2 in /usr/local/lib/python3.11/dist-packages (from requests->transformers) (3.4.1)\n",
            "Requirement already satisfied: idna<4,>=2.5 in /usr/local/lib/python3.11/dist-packages (from requests->transformers) (3.10)\n",
            "Requirement already satisfied: urllib3<3,>=1.21.1 in /usr/local/lib/python3.11/dist-packages (from requests->transformers) (2.3.0)\n",
            "Requirement already satisfied: certifi>=2017.4.17 in /usr/local/lib/python3.11/dist-packages (from requests->transformers) (2025.1.31)\n"
          ]
        }
      ],
      "source": [
        "!pip install datasets\n",
        "!pip install transformers"
      ]
    },
    {
      "cell_type": "markdown",
      "source": [
        "Посмотрим на то, как модель анализирует тональность."
      ],
      "metadata": {
        "id": "NzpFzTnUSoDq"
      }
    },
    {
      "cell_type": "code",
      "source": [
        "from datasets import load_dataset\n",
        "\n",
        "dataset = load_dataset('cardiffnlp/tweet_sentiment_multilingual', 'spanish')\n",
        "dataset"
      ],
      "metadata": {
        "colab": {
          "base_uri": "https://localhost:8080/",
          "height": 652,
          "referenced_widgets": [
            "cced4e8842c54bada2205405cef1267b",
            "d3c73fd33178481f95a223b573f77af3",
            "b1309895ac544c8ea063bc347691e822",
            "3abf5e2c25144baaa7aebb3db7fe8e6b",
            "b4b5f02d02b448a2a0a2ed218237365e",
            "09ca83632cdf44028e43e23f9c33f44b",
            "bdfb038f43694d40a606d5fe7d570b80",
            "97a25229d1264dbf9cfef566bb08b89e",
            "f67efd327b7e4741ae92b8f527a3b50b",
            "b2485f51cb174e7d895e8f6a2225dff3",
            "840fc3c8ebe54d56bf11136210eb851d",
            "3aaaad90f6824f2bacadc13fec66cf02",
            "36bea5b8d8b44a488c889f7abe11a457",
            "374076e2cd2440929041006a1aaa18ee",
            "6f32b17654ca471c8b36ae5848eccbb9",
            "b6d3c6c2124d417698ff6b3f73870066",
            "ddc4c65f82e14f738b85b6cf4dbf925b",
            "f436d4e10f7e410696beab13f03d646c",
            "6b4ca35daffa43069aeda52be3e36c32",
            "a694e3be6bd949638a25412e272e16ff",
            "fbd70b9195a04130a2d0eeb15d97073f",
            "ab49bbe8791c43d2a84a30bcabd31f71",
            "2880772dde0b49ca8e85bc60abfab3e9",
            "98804d0de0b64ed888321bfec5135721",
            "e4aab4d03a764b2796500b169fac611b",
            "0b88bdaf5c5a40d78d5b4baf7de638da",
            "5d23eca71370456d8325d9dc43f97fce",
            "866dc22e7ba046eb9b16f35b90f454a2",
            "51b7c07532844fe8b33228cb968f42d6",
            "064252252a6d473693bf0b9f1b8ea9ea",
            "16b369ae04a249c8a16e2fe7557b5810",
            "fe9aacacc8654c9088a263ecf66584ac",
            "790fc494bdce44d0a79cadd12b7166eb",
            "768861fbeaca4e858c56bf1ef1729a12",
            "180bd44effef4cbb816a58f8d4677773",
            "fe9e51bf8da8407f8d185786048547e4",
            "6ce3850c524e4301a4e42c24d4403f74",
            "23ceaa33465d4280a91f959949039f29",
            "40dd13bc54094b7d96017de71b354cd0",
            "503ada12002741be85ef48bcdf08ae92",
            "abf00a6fc022487ab7c124cd181c6281",
            "7ec1528ac6e8492dbbb55c262d924641",
            "37a8ab3d209a40bdaa6e9163b1088e55",
            "23c0b0c3859349de903a184cedeb2177",
            "5aa12b2b4aef41898bd200f283584eb5",
            "9935f4c564e94406b6a4caa7680abf2b",
            "f1a4955aaaef4003968338df24228633",
            "d29b1766b2404387966bc817d88f2553",
            "96318b4ea4364668a3d5209526ac0172",
            "5588fd56801d4a5aa37839cedab61169",
            "152b0cf16da84dfd80628066c6ed7ac1",
            "e29e250e9ffd483a9a094731f785401c",
            "a545caceddd74f25bd162a151635681a",
            "282487b97ba04caeab4eeef3b810ab33",
            "94d639f1141e47ceb742820e2c5be19b",
            "311d70d5f3e04520b225c760c45ee09b",
            "3255575467ab48e0b3acec1f3fe72341",
            "b0ddfd78f79c4550af1c9d010f0efd3e",
            "58c60ac1e0e7418895dcb35793985f9f",
            "e6ad9070935541dc90b2f4b514c737ab",
            "1c7a98cce504421e9bf006ec80806244",
            "4ebed18445ff46d48547d9a4d15d1fff",
            "710879207c8749e181cacc0d2fa37c23",
            "f52ddeb3b7924637a33488b65610fdad",
            "706768e597334d10bc101cc894b11e18",
            "07f1f8f2689b41ef8e351139d7cf81c3",
            "c7cd0dee895042c3b61fa3e7f71f81c8",
            "eab39db89079407ebe48a2b42d2d80fb",
            "faf52a6c78e14a918abd5dfdf223c5ac",
            "826a549612ee4e69b442b712cfbb8ded",
            "ec800fa06e034b05929d5322da2d53dd",
            "a6d8ef31a8fe49d096c4259180cc0091",
            "4fdf6901a11d4f38ae8b21592f5007b9",
            "8838e5a4e1624db7b5a0f7d88df62893",
            "32cdf4d3de9147439d0c82ba17287890",
            "5acc367509fd4e19a7347bb54be1bd27",
            "5ecccd50b5a0479a83e97defcb86fd11",
            "c3861c1fcdd84715833b844466807e89",
            "4e32e01792b34033b6b88547fc7a9cea",
            "fa42e67436f74e2a86bc5dc86b858bf4",
            "a48ea613f2d44170a06090d05f978fed",
            "120eee3c676c4539b87d0a75e0e1430a",
            "e7a6c787589e4604b08f4accdf2ecbff",
            "78f6b99ec3984f129d1a6210dd968b9a",
            "9bfa705400c84323ba8c2fd33d9cdddd",
            "e46e5d02acd64def8d0c47ba287868ee",
            "e58f95bc4d2244d0b42a99a682fbf521",
            "12cd790abd024856928932eaa4adaf98"
          ]
        },
        "id": "tRu10sAOaRth",
        "outputId": "3e348327-5c36-4a82-aa43-052074e8b491"
      },
      "execution_count": null,
      "outputs": [
        {
          "output_type": "stream",
          "name": "stderr",
          "text": [
            "/usr/local/lib/python3.11/dist-packages/huggingface_hub/utils/_auth.py:94: UserWarning: \n",
            "The secret `HF_TOKEN` does not exist in your Colab secrets.\n",
            "To authenticate with the Hugging Face Hub, create a token in your settings tab (https://huggingface.co/settings/tokens), set it as secret in your Google Colab and restart your session.\n",
            "You will be able to reuse this secret in all of your notebooks.\n",
            "Please note that authentication is recommended but still optional to access public models or datasets.\n",
            "  warnings.warn(\n"
          ]
        },
        {
          "output_type": "display_data",
          "data": {
            "text/plain": [
              "README.md:   0%|          | 0.00/5.28k [00:00<?, ?B/s]"
            ],
            "application/vnd.jupyter.widget-view+json": {
              "version_major": 2,
              "version_minor": 0,
              "model_id": "cced4e8842c54bada2205405cef1267b"
            }
          },
          "metadata": {}
        },
        {
          "output_type": "display_data",
          "data": {
            "text/plain": [
              "tweet_sentiment_multilingual.py:   0%|          | 0.00/4.14k [00:00<?, ?B/s]"
            ],
            "application/vnd.jupyter.widget-view+json": {
              "version_major": 2,
              "version_minor": 0,
              "model_id": "3aaaad90f6824f2bacadc13fec66cf02"
            }
          },
          "metadata": {}
        },
        {
          "output_type": "display_data",
          "data": {
            "text/plain": [
              "spanish%2Ftrain%2F0000.parquet:   0%|          | 0.00/120k [00:00<?, ?B/s]"
            ],
            "application/vnd.jupyter.widget-view+json": {
              "version_major": 2,
              "version_minor": 0,
              "model_id": "2880772dde0b49ca8e85bc60abfab3e9"
            }
          },
          "metadata": {}
        },
        {
          "output_type": "display_data",
          "data": {
            "text/plain": [
              "spanish%2Fvalidation%2F0000.parquet:   0%|          | 0.00/23.6k [00:00<?, ?B/s]"
            ],
            "application/vnd.jupyter.widget-view+json": {
              "version_major": 2,
              "version_minor": 0,
              "model_id": "768861fbeaca4e858c56bf1ef1729a12"
            }
          },
          "metadata": {}
        },
        {
          "output_type": "display_data",
          "data": {
            "text/plain": [
              "spanish%2Ftest%2F0000.parquet:   0%|          | 0.00/58.0k [00:00<?, ?B/s]"
            ],
            "application/vnd.jupyter.widget-view+json": {
              "version_major": 2,
              "version_minor": 0,
              "model_id": "5aa12b2b4aef41898bd200f283584eb5"
            }
          },
          "metadata": {}
        },
        {
          "output_type": "display_data",
          "data": {
            "text/plain": [
              "Generating train split:   0%|          | 0/1839 [00:00<?, ? examples/s]"
            ],
            "application/vnd.jupyter.widget-view+json": {
              "version_major": 2,
              "version_minor": 0,
              "model_id": "311d70d5f3e04520b225c760c45ee09b"
            }
          },
          "metadata": {}
        },
        {
          "output_type": "display_data",
          "data": {
            "text/plain": [
              "Generating validation split:   0%|          | 0/324 [00:00<?, ? examples/s]"
            ],
            "application/vnd.jupyter.widget-view+json": {
              "version_major": 2,
              "version_minor": 0,
              "model_id": "c7cd0dee895042c3b61fa3e7f71f81c8"
            }
          },
          "metadata": {}
        },
        {
          "output_type": "display_data",
          "data": {
            "text/plain": [
              "Generating test split:   0%|          | 0/870 [00:00<?, ? examples/s]"
            ],
            "application/vnd.jupyter.widget-view+json": {
              "version_major": 2,
              "version_minor": 0,
              "model_id": "c3861c1fcdd84715833b844466807e89"
            }
          },
          "metadata": {}
        },
        {
          "output_type": "execute_result",
          "data": {
            "text/plain": [
              "DatasetDict({\n",
              "    train: Dataset({\n",
              "        features: ['text', 'label'],\n",
              "        num_rows: 1839\n",
              "    })\n",
              "    validation: Dataset({\n",
              "        features: ['text', 'label'],\n",
              "        num_rows: 324\n",
              "    })\n",
              "    test: Dataset({\n",
              "        features: ['text', 'label'],\n",
              "        num_rows: 870\n",
              "    })\n",
              "})"
            ]
          },
          "metadata": {},
          "execution_count": 2
        }
      ]
    },
    {
      "cell_type": "code",
      "source": [
        "from transformers import AutoTokenizer\n",
        "tokenizer = AutoTokenizer.from_pretrained(\"dccuchile/bert-base-spanish-wwm-uncased\")"
      ],
      "metadata": {
        "colab": {
          "base_uri": "https://localhost:8080/",
          "height": 247,
          "referenced_widgets": [
            "290c3ad117984470a45bd1dc48f9a2f3",
            "12fffb9f2d384f2294270beec0678b17",
            "6532ddc14cef4dc68f4c541c6ac29e57",
            "530bed8e63174ae1aa9696bf5ff6de64",
            "97274479414047eea24d05103d8e559d",
            "c4440cf64a204f6fb3f9f2a611dcc197",
            "d6ffb64a620641a2a3476b040e93761f",
            "50e3f7ad14d64d13b08a3c0956f0f02d",
            "7069fa25f01b4b0297a3ffa9701ea91b",
            "b7c12d21353d4fb89d95cd8214db2616",
            "5eb09c25f87a4a6a8e56d450e7fe32a7",
            "48028bd496f0428ca09dfdc709869c95",
            "af473e2bada34229affa3bd82e2e37d1",
            "98ff9deea2a54f34bf73e86d74639777",
            "f5148e017d6a4d2b943efbbf480eef85",
            "31d68f0c85f742d88a68ea2d0008c24e",
            "cf386a8753a8467eb3b890c343333319",
            "e4be213ad2c14995b0485e8359b8fa63",
            "455d343fe1c04bf3b1d3f5b7c9d06369",
            "f12c457a3e7941e59d7e52cd33175b6a",
            "52b0587f60b24eaa97842cb3392cd38f",
            "76a2ba13f56849c0ad1beda11d41401f",
            "e120125e7360462e965818ff8f0c36b1",
            "c55c1fe9920e4f559edaec2f81531663",
            "2793c8e9a1bb4bacad2e8986691ae65d",
            "24239f4ce0f14d098900acbd535bc1a8",
            "f2f634534f21455882c07ebf9e8a606f",
            "36fb9a69f36647988cac754204850ab8",
            "cdbbcc4761de49b79543ade539aa8e9d",
            "e1b165dcd78342a38a38875f0fb680bd",
            "686d5b045dda4b228814431b1d15e65e",
            "4d83ee8c6ebc44c99696cc35fa1f1599",
            "5ce613ab945f4a16b24dfdaec237fdb9",
            "5b29ea36f0164f16b3f2fa4df99246b8",
            "c616471799264edfaf3c8ed129caba27",
            "bd849fec51d5453fb36aeb18a743c595",
            "336d1e3a6ed14539b14bf7255b210ff1",
            "dd0ac4ff951e497393432aff44bb3de6",
            "34c3dd6d0d644de495e8df031726f6b6",
            "cad825ab1f244484ba59b3030f435057",
            "1c032f9caf724648b8031146bc47ef57",
            "b78eb137303444bb9f4566e6e4e737c5",
            "a0e711fa93fb49d7842cc9e2bebed205",
            "64c3e347f372442190cb6f93b8957b6f",
            "4aa7261415d94306b60a75f49a83a722",
            "19747eed4b1648f2926df7a904ec421e",
            "a1d6d9c33431412888ddf30263407be2",
            "2373816180df4510ab27acead06ad7e5",
            "25b12f6c03f347fba32b668046cd6b0c",
            "53018ef92d764128bbdee5298016dce5",
            "22292a6dcff8401ba9f6fc4a65f010dd",
            "7a03ca8ffc3b4508a571ab78ad1323a6",
            "225611b605f045b9a0b46238e3f77195",
            "f01270ae617845178c32d82a92bb7ac2",
            "86928a3673be43a6a09717d38252e9ff",
            "6222a50ddb5344b88edeac7a5745e3c6",
            "e5adf537c93d46baa5531752db3f5d21",
            "35fb8a26d30443ffa4fac40258ea89f6",
            "60487d1e8cf84a80b0df99dd252e9304",
            "9b88c2a4b7db44838ef3c03926e4a629",
            "ce57fb976f234f3fb256bf392a983c99",
            "f30c8a0fbe384db3877fa96bf4524fe9",
            "73e8e1ca1eed4462904e7668b9da66e0",
            "3b77265ad1d7456982f5775d60528444",
            "7d3b0ab06bba4789a066b88485530b48",
            "534d7dc0d399476dac34ba06b3cf1373"
          ]
        },
        "id": "2I52yxWgal5n",
        "outputId": "6cf7fa89-154b-47a5-bb84-08446c3445db"
      },
      "execution_count": null,
      "outputs": [
        {
          "output_type": "stream",
          "name": "stderr",
          "text": [
            "The cache for model files in Transformers v4.22.0 has been updated. Migrating your old cache. This is a one-time only operation. You can interrupt this and resume the migration later on by calling `transformers.utils.move_cache()`.\n"
          ]
        },
        {
          "output_type": "display_data",
          "data": {
            "text/plain": [
              "0it [00:00, ?it/s]"
            ],
            "application/vnd.jupyter.widget-view+json": {
              "version_major": 2,
              "version_minor": 0,
              "model_id": "290c3ad117984470a45bd1dc48f9a2f3"
            }
          },
          "metadata": {}
        },
        {
          "output_type": "display_data",
          "data": {
            "text/plain": [
              "tokenizer_config.json:   0%|          | 0.00/310 [00:00<?, ?B/s]"
            ],
            "application/vnd.jupyter.widget-view+json": {
              "version_major": 2,
              "version_minor": 0,
              "model_id": "48028bd496f0428ca09dfdc709869c95"
            }
          },
          "metadata": {}
        },
        {
          "output_type": "display_data",
          "data": {
            "text/plain": [
              "config.json:   0%|          | 0.00/650 [00:00<?, ?B/s]"
            ],
            "application/vnd.jupyter.widget-view+json": {
              "version_major": 2,
              "version_minor": 0,
              "model_id": "e120125e7360462e965818ff8f0c36b1"
            }
          },
          "metadata": {}
        },
        {
          "output_type": "display_data",
          "data": {
            "text/plain": [
              "vocab.txt:   0%|          | 0.00/248k [00:00<?, ?B/s]"
            ],
            "application/vnd.jupyter.widget-view+json": {
              "version_major": 2,
              "version_minor": 0,
              "model_id": "5b29ea36f0164f16b3f2fa4df99246b8"
            }
          },
          "metadata": {}
        },
        {
          "output_type": "display_data",
          "data": {
            "text/plain": [
              "tokenizer.json:   0%|          | 0.00/486k [00:00<?, ?B/s]"
            ],
            "application/vnd.jupyter.widget-view+json": {
              "version_major": 2,
              "version_minor": 0,
              "model_id": "4aa7261415d94306b60a75f49a83a722"
            }
          },
          "metadata": {}
        },
        {
          "output_type": "display_data",
          "data": {
            "text/plain": [
              "special_tokens_map.json:   0%|          | 0.00/134 [00:00<?, ?B/s]"
            ],
            "application/vnd.jupyter.widget-view+json": {
              "version_major": 2,
              "version_minor": 0,
              "model_id": "6222a50ddb5344b88edeac7a5745e3c6"
            }
          },
          "metadata": {}
        }
      ]
    },
    {
      "cell_type": "code",
      "source": [
        "def make_dataset(data, tokenizer):\n",
        "    answer = []\n",
        "    for i, item in enumerate(data):\n",
        "        if item[\"label\"] == 1:\n",
        "          continue\n",
        "        result = tokenizer(item[\"text\"])\n",
        "        result[\"labels\"] = 1 if item[\"label\"] == 2 else item[\"label\"]\n",
        "        # result[\"index\"] = i\n",
        "        answer.append(result)\n",
        "    return answer"
      ],
      "metadata": {
        "id": "oazMJT43atkz"
      },
      "execution_count": null,
      "outputs": []
    },
    {
      "cell_type": "code",
      "source": [
        "train_dataset = make_dataset(dataset['train'], tokenizer)\n",
        "dev_dataset = make_dataset(dataset['validation'], tokenizer)\n",
        "test_dataset = make_dataset(dataset['test'], tokenizer)"
      ],
      "metadata": {
        "id": "1Or5wi_FbDuS"
      },
      "execution_count": null,
      "outputs": []
    },
    {
      "cell_type": "code",
      "source": [
        "for k, v in train_dataset[1].items():\n",
        "    print(k, v)"
      ],
      "metadata": {
        "colab": {
          "base_uri": "https://localhost:8080/"
        },
        "id": "Y6xJuHSBbIzs",
        "outputId": "473d14fc-8fd1-4298-c90e-acc806a9c973"
      },
      "execution_count": null,
      "outputs": [
        {
          "output_type": "stream",
          "name": "stdout",
          "text": [
            "input_ids [4, 1202, 1009, 1553, 3416, 28927, 5]\n",
            "token_type_ids [0, 0, 0, 0, 0, 0, 0]\n",
            "attention_mask [1, 1, 1, 1, 1, 1, 1]\n",
            "labels 1\n"
          ]
        }
      ]
    },
    {
      "cell_type": "code",
      "source": [
        "from transformers import AutoModelForSequenceClassification\n",
        "from transformers import DataCollatorWithPadding, TrainingArguments, Trainer\n",
        "from transformers.optimization import AdamW\n",
        "\n",
        "model = AutoModelForSequenceClassification.from_pretrained('dccuchile/bert-base-spanish-wwm-uncased', force_download=True, num_labels=2)\n",
        "optimizer = AdamW(model.parameters(), lr=1e-5, weight_decay=0.01)\n",
        "training_args = TrainingArguments(output_dir='/content/checkpoints',\n",
        "                                  evaluation_strategy=\"epoch\", save_strategy='epoch', num_train_epochs=10,\n",
        "                                  load_best_model_at_end=True, disable_tqdm=False,\n",
        "                                  per_device_train_batch_size=4, warmup_ratio=0.1,\n",
        "                                  gradient_accumulation_steps=4, metric_for_best_model=\"Accuracy\")"
      ],
      "metadata": {
        "colab": {
          "base_uri": "https://localhost:8080/",
          "height": 241,
          "referenced_widgets": [
            "16fa6eaba54b40ccb34ec6704ad3c5cf",
            "6c331983ce7f4ac3adfe2fbcc6b014c0",
            "7d391d49ff60434c8ad9fce8a724cb8e",
            "e16ca5fdabc34a2f9f292e897de2b534",
            "72c1b82d7b984a03a7b82e5ef8430bc6",
            "ff3fe809bea94bbc9c3b5dec9ee3f8b0",
            "16e576c81149469aa762689a6c275720",
            "05e05229d4b24ff788ba8670257e98eb",
            "c4091c702eab4190b71ab788d21f40cf",
            "c26e98ef11e04124b51e08e7f42fc8db",
            "679e19a14caf495bbecb7be88ea02736",
            "3c4d8276ef0f4725b23714a41d604af6",
            "10e7b4819fb5443fb1b6e0f309f76168",
            "f65265fe0a2345adaa52993f124a3020",
            "0b2a248f9e554e99b0ef573037ff8dee",
            "44211e20ab35459ca7a5e858166ddc17",
            "acede9c8d890481a9cfe2abf43bf70b9",
            "99bf00df07dd41d68bd76e124ded8538",
            "1df004902ef4409fac16c921f4e838ce",
            "a64d1fe48ef748dda85fe4774176ae25",
            "92b76619133f40e6a4de1acb0a8fa6e7",
            "4eecbb8ddf474deb9dfc71b5a698e9b5",
            "632ef02107e54a4fa55fd01c6eee017e",
            "334040b325e24dadaf156944c6d4b89d",
            "651a6e243d704766a256b70a0cc6e976",
            "7cb351cec4d4435e886cbef452a4181f",
            "452b311b4b564ab692810d6caac31c3f",
            "a998faa068e54e61acd671b0a3b7062d",
            "036d12d4de4e4e2298671136920b66bf",
            "d9d80e987d974c2a86f12591c5c1f267",
            "497f4a91f616457c990579484302f56e",
            "ba0d73a6178f4eb3978dd26d19870391",
            "95d882e4bf60472ca8b18bc705772fab"
          ]
        },
        "id": "xq9Eza7xcB-Z",
        "outputId": "04fd7889-27da-4d5e-9f6e-e4665a5c1953"
      },
      "execution_count": null,
      "outputs": [
        {
          "output_type": "display_data",
          "data": {
            "text/plain": [
              "config.json:   0%|          | 0.00/650 [00:00<?, ?B/s]"
            ],
            "application/vnd.jupyter.widget-view+json": {
              "version_major": 2,
              "version_minor": 0,
              "model_id": "16fa6eaba54b40ccb34ec6704ad3c5cf"
            }
          },
          "metadata": {}
        },
        {
          "output_type": "display_data",
          "data": {
            "text/plain": [
              "config.json:   0%|          | 0.00/650 [00:00<?, ?B/s]"
            ],
            "application/vnd.jupyter.widget-view+json": {
              "version_major": 2,
              "version_minor": 0,
              "model_id": "3c4d8276ef0f4725b23714a41d604af6"
            }
          },
          "metadata": {}
        },
        {
          "output_type": "display_data",
          "data": {
            "text/plain": [
              "pytorch_model.bin:   0%|          | 0.00/440M [00:00<?, ?B/s]"
            ],
            "application/vnd.jupyter.widget-view+json": {
              "version_major": 2,
              "version_minor": 0,
              "model_id": "632ef02107e54a4fa55fd01c6eee017e"
            }
          },
          "metadata": {}
        },
        {
          "output_type": "stream",
          "name": "stderr",
          "text": [
            "Some weights of BertForSequenceClassification were not initialized from the model checkpoint at dccuchile/bert-base-spanish-wwm-uncased and are newly initialized: ['bert.pooler.dense.bias', 'bert.pooler.dense.weight', 'classifier.bias', 'classifier.weight']\n",
            "You should probably TRAIN this model on a down-stream task to be able to use it for predictions and inference.\n",
            "/usr/local/lib/python3.11/dist-packages/transformers/optimization.py:591: FutureWarning: This implementation of AdamW is deprecated and will be removed in a future version. Use the PyTorch implementation torch.optim.AdamW instead, or set `no_deprecation_warning=True` to disable this warning\n",
            "  warnings.warn(\n",
            "/usr/local/lib/python3.11/dist-packages/transformers/training_args.py:1575: FutureWarning: `evaluation_strategy` is deprecated and will be removed in version 4.46 of 🤗 Transformers. Use `eval_strategy` instead\n",
            "  warnings.warn(\n"
          ]
        }
      ]
    },
    {
      "cell_type": "code",
      "source": [
        "import numpy as np\n",
        "from sklearn.metrics import accuracy_score, precision_recall_fscore_support\n",
        "\n",
        "def compute_metrics(eval_pred):\n",
        "    logits, labels = eval_pred\n",
        "    pred_labels = np.argmax(logits, axis=-1)\n",
        "    accuracy = accuracy_score(labels, pred_labels)\n",
        "    precision, recall, f1, _ = precision_recall_fscore_support(labels, pred_labels, average='macro')\n",
        "    return {'Accuracy': accuracy * 100, 'Precision': precision * 100, 'Recall': recall * 100, 'F1': f1 * 100}"
      ],
      "metadata": {
        "id": "F51GDQ8GcZGn"
      },
      "execution_count": null,
      "outputs": []
    },
    {
      "cell_type": "code",
      "source": [
        "trainer = Trainer(\n",
        "    model=model,\n",
        "    optimizers=(optimizer, None), # optimizers=(optimizer, scheduler)\n",
        "    args=training_args,\n",
        "    data_collator=DataCollatorWithPadding(tokenizer=tokenizer), # добавляет паддинг в более короткие элементы батча\n",
        "    train_dataset=train_dataset,\n",
        "    eval_dataset=dev_dataset,\n",
        "    compute_metrics=compute_metrics,\n",
        ")\n",
        "\n",
        "trainer.train()"
      ],
      "metadata": {
        "colab": {
          "base_uri": "https://localhost:8080/",
          "height": 691
        },
        "id": "2-5dAQPSccGv",
        "outputId": "75f3d852-abee-468f-ca26-ec9e63bed9ab"
      },
      "execution_count": null,
      "outputs": [
        {
          "output_type": "display_data",
          "data": {
            "text/plain": [
              "<IPython.core.display.Javascript object>"
            ],
            "application/javascript": [
              "\n",
              "        window._wandbApiKey = new Promise((resolve, reject) => {\n",
              "            function loadScript(url) {\n",
              "            return new Promise(function(resolve, reject) {\n",
              "                let newScript = document.createElement(\"script\");\n",
              "                newScript.onerror = reject;\n",
              "                newScript.onload = resolve;\n",
              "                document.body.appendChild(newScript);\n",
              "                newScript.src = url;\n",
              "            });\n",
              "            }\n",
              "            loadScript(\"https://cdn.jsdelivr.net/npm/postmate/build/postmate.min.js\").then(() => {\n",
              "            const iframe = document.createElement('iframe')\n",
              "            iframe.style.cssText = \"width:0;height:0;border:none\"\n",
              "            document.body.appendChild(iframe)\n",
              "            const handshake = new Postmate({\n",
              "                container: iframe,\n",
              "                url: 'https://wandb.ai/authorize'\n",
              "            });\n",
              "            const timeout = setTimeout(() => reject(\"Couldn't auto authenticate\"), 5000)\n",
              "            handshake.then(function(child) {\n",
              "                child.on('authorize', data => {\n",
              "                    clearTimeout(timeout)\n",
              "                    resolve(data)\n",
              "                });\n",
              "            });\n",
              "            })\n",
              "        });\n",
              "    "
            ]
          },
          "metadata": {}
        },
        {
          "output_type": "stream",
          "name": "stderr",
          "text": [
            "\u001b[34m\u001b[1mwandb\u001b[0m: Logging into wandb.ai. (Learn how to deploy a W&B server locally: https://wandb.me/wandb-server)\n",
            "\u001b[34m\u001b[1mwandb\u001b[0m: You can find your API key in your browser here: https://wandb.ai/authorize\n",
            "wandb: Paste an API key from your profile and hit enter:"
          ]
        },
        {
          "name": "stdout",
          "output_type": "stream",
          "text": [
            " ··········\n"
          ]
        },
        {
          "output_type": "stream",
          "name": "stderr",
          "text": [
            "\u001b[34m\u001b[1mwandb\u001b[0m: \u001b[33mWARNING\u001b[0m If you're specifying your api key in code, ensure this code is not shared publicly.\n",
            "\u001b[34m\u001b[1mwandb\u001b[0m: \u001b[33mWARNING\u001b[0m Consider setting the WANDB_API_KEY environment variable, or running `wandb login` from the command line.\n",
            "\u001b[34m\u001b[1mwandb\u001b[0m: Appending key for api.wandb.ai to your netrc file: /root/.netrc\n",
            "\u001b[34m\u001b[1mwandb\u001b[0m: Currently logged in as: \u001b[33msofiesolve\u001b[0m (\u001b[33msofiesolve-msu\u001b[0m) to \u001b[32mhttps://api.wandb.ai\u001b[0m. Use \u001b[1m`wandb login --relogin`\u001b[0m to force relogin\n",
            "\u001b[34m\u001b[1mwandb\u001b[0m: Using wandb-core as the SDK backend.  Please refer to https://wandb.me/wandb-core for more information.\n"
          ]
        },
        {
          "output_type": "display_data",
          "data": {
            "text/plain": [
              "<IPython.core.display.HTML object>"
            ],
            "text/html": [
              "Tracking run with wandb version 0.19.6"
            ]
          },
          "metadata": {}
        },
        {
          "output_type": "display_data",
          "data": {
            "text/plain": [
              "<IPython.core.display.HTML object>"
            ],
            "text/html": [
              "Run data is saved locally in <code>/content/wandb/run-20250220_195032-n160cu1e</code>"
            ]
          },
          "metadata": {}
        },
        {
          "output_type": "display_data",
          "data": {
            "text/plain": [
              "<IPython.core.display.HTML object>"
            ],
            "text/html": [
              "Syncing run <strong><a href='https://wandb.ai/sofiesolve-msu/huggingface/runs/n160cu1e' target=\"_blank\">/content/checkpoints</a></strong> to <a href='https://wandb.ai/sofiesolve-msu/huggingface' target=\"_blank\">Weights & Biases</a> (<a href='https://wandb.me/developer-guide' target=\"_blank\">docs</a>)<br>"
            ]
          },
          "metadata": {}
        },
        {
          "output_type": "display_data",
          "data": {
            "text/plain": [
              "<IPython.core.display.HTML object>"
            ],
            "text/html": [
              " View project at <a href='https://wandb.ai/sofiesolve-msu/huggingface' target=\"_blank\">https://wandb.ai/sofiesolve-msu/huggingface</a>"
            ]
          },
          "metadata": {}
        },
        {
          "output_type": "display_data",
          "data": {
            "text/plain": [
              "<IPython.core.display.HTML object>"
            ],
            "text/html": [
              " View run at <a href='https://wandb.ai/sofiesolve-msu/huggingface/runs/n160cu1e' target=\"_blank\">https://wandb.ai/sofiesolve-msu/huggingface/runs/n160cu1e</a>"
            ]
          },
          "metadata": {}
        },
        {
          "output_type": "display_data",
          "data": {
            "text/plain": [
              "<IPython.core.display.HTML object>"
            ],
            "text/html": [
              "\n",
              "    <div>\n",
              "      \n",
              "      <progress value='760' max='760' style='width:300px; height:20px; vertical-align: middle;'></progress>\n",
              "      [760/760 04:07, Epoch 9/10]\n",
              "    </div>\n",
              "    <table border=\"1\" class=\"dataframe\">\n",
              "  <thead>\n",
              " <tr style=\"text-align: left;\">\n",
              "      <th>Epoch</th>\n",
              "      <th>Training Loss</th>\n",
              "      <th>Validation Loss</th>\n",
              "      <th>Accuracy</th>\n",
              "      <th>Precision</th>\n",
              "      <th>Recall</th>\n",
              "      <th>F1</th>\n",
              "    </tr>\n",
              "  </thead>\n",
              "  <tbody>\n",
              "    <tr>\n",
              "      <td>0</td>\n",
              "      <td>No log</td>\n",
              "      <td>0.472816</td>\n",
              "      <td>84.259259</td>\n",
              "      <td>84.271012</td>\n",
              "      <td>84.259259</td>\n",
              "      <td>84.257910</td>\n",
              "    </tr>\n",
              "    <tr>\n",
              "      <td>1</td>\n",
              "      <td>No log</td>\n",
              "      <td>0.316881</td>\n",
              "      <td>88.425926</td>\n",
              "      <td>88.828727</td>\n",
              "      <td>88.425926</td>\n",
              "      <td>88.395831</td>\n",
              "    </tr>\n",
              "    <tr>\n",
              "      <td>2</td>\n",
              "      <td>No log</td>\n",
              "      <td>0.308121</td>\n",
              "      <td>86.574074</td>\n",
              "      <td>86.829837</td>\n",
              "      <td>86.574074</td>\n",
              "      <td>86.550725</td>\n",
              "    </tr>\n",
              "    <tr>\n",
              "      <td>3</td>\n",
              "      <td>No log</td>\n",
              "      <td>0.477819</td>\n",
              "      <td>86.111111</td>\n",
              "      <td>86.562500</td>\n",
              "      <td>86.111111</td>\n",
              "      <td>86.068111</td>\n",
              "    </tr>\n",
              "    <tr>\n",
              "      <td>4</td>\n",
              "      <td>No log</td>\n",
              "      <td>0.494362</td>\n",
              "      <td>88.888889</td>\n",
              "      <td>88.942308</td>\n",
              "      <td>88.888889</td>\n",
              "      <td>88.885077</td>\n",
              "    </tr>\n",
              "    <tr>\n",
              "      <td>5</td>\n",
              "      <td>No log</td>\n",
              "      <td>0.518558</td>\n",
              "      <td>89.814815</td>\n",
              "      <td>90.159114</td>\n",
              "      <td>89.814815</td>\n",
              "      <td>89.792938</td>\n",
              "    </tr>\n",
              "    <tr>\n",
              "      <td>6</td>\n",
              "      <td>0.235500</td>\n",
              "      <td>0.620149</td>\n",
              "      <td>87.500000</td>\n",
              "      <td>87.503215</td>\n",
              "      <td>87.500000</td>\n",
              "      <td>87.499732</td>\n",
              "    </tr>\n",
              "    <tr>\n",
              "      <td>7</td>\n",
              "      <td>0.235500</td>\n",
              "      <td>0.648818</td>\n",
              "      <td>87.962963</td>\n",
              "      <td>87.962963</td>\n",
              "      <td>87.962963</td>\n",
              "      <td>87.962963</td>\n",
              "    </tr>\n",
              "    <tr>\n",
              "      <td>8</td>\n",
              "      <td>0.235500</td>\n",
              "      <td>0.628481</td>\n",
              "      <td>87.962963</td>\n",
              "      <td>87.975986</td>\n",
              "      <td>87.962963</td>\n",
              "      <td>87.961931</td>\n",
              "    </tr>\n",
              "    <tr>\n",
              "      <td>9</td>\n",
              "      <td>0.235500</td>\n",
              "      <td>0.618524</td>\n",
              "      <td>89.351852</td>\n",
              "      <td>89.436378</td>\n",
              "      <td>89.351852</td>\n",
              "      <td>89.346143</td>\n",
              "    </tr>\n",
              "  </tbody>\n",
              "</table><p>"
            ]
          },
          "metadata": {}
        },
        {
          "output_type": "execute_result",
          "data": {
            "text/plain": [
              "TrainOutput(global_step=760, training_loss=0.15850241372459814, metrics={'train_runtime': 310.7277, 'train_samples_per_second': 39.456, 'train_steps_per_second': 2.446, 'total_flos': 197690958110880.0, 'train_loss': 0.15850241372459814, 'epoch': 9.990228013029316})"
            ]
          },
          "metadata": {},
          "execution_count": 10
        }
      ]
    },
    {
      "cell_type": "code",
      "source": [
        "trainer = Trainer(\n",
        "    model=model,\n",
        "    optimizers=(optimizer, None), # optimizers=(optimizer, scheduler)\n",
        "    args=training_args,\n",
        "    data_collator=DataCollatorWithPadding(tokenizer=tokenizer), # добавляет паддинг в более короткие элементы батча\n",
        "    train_dataset=train_dataset,\n",
        "    eval_dataset=test_dataset,\n",
        "    compute_metrics=compute_metrics)\n",
        "\n",
        "trainer.evaluate()"
      ],
      "metadata": {
        "colab": {
          "base_uri": "https://localhost:8080/",
          "height": 199
        },
        "id": "7KnLU_TSct19",
        "outputId": "b9b5bddf-e19c-4879-e793-54fcfd016d10"
      },
      "execution_count": null,
      "outputs": [
        {
          "output_type": "display_data",
          "data": {
            "text/plain": [
              "<IPython.core.display.HTML object>"
            ],
            "text/html": [
              "\n",
              "    <div>\n",
              "      \n",
              "      <progress value='73' max='73' style='width:300px; height:20px; vertical-align: middle;'></progress>\n",
              "      [73/73 00:01]\n",
              "    </div>\n",
              "    "
            ]
          },
          "metadata": {}
        },
        {
          "output_type": "execute_result",
          "data": {
            "text/plain": [
              "{'eval_loss': 0.7353566288948059,\n",
              " 'eval_model_preparation_time': 0.0044,\n",
              " 'eval_Accuracy': 84.82758620689656,\n",
              " 'eval_Precision': 85.25687322451732,\n",
              " 'eval_Recall': 84.82758620689656,\n",
              " 'eval_F1': 84.7812604360479,\n",
              " 'eval_runtime': 1.3898,\n",
              " 'eval_samples_per_second': 417.329,\n",
              " 'eval_steps_per_second': 52.526}"
            ]
          },
          "metadata": {},
          "execution_count": 11
        }
      ]
    },
    {
      "cell_type": "code",
      "source": [
        "import numpy as np\n",
        "import scipy\n",
        "import warnings\n",
        "warnings.filterwarnings('ignore')\n",
        "\n",
        "def eval(s):\n",
        "    data_samples = [{\"text\": s.lower(), \"label\": 0}]\n",
        "    dataset = make_dataset(data_samples, tokenizer)\n",
        "    classes = [0, 1]\n",
        "    predictions = trainer.predict(dataset)\n",
        "    probs = scipy.special.softmax(predictions.predictions, axis=-1)\n",
        "    answer = [{\"positive\": bool(classes[np.argmax(elem)]), \"probs\": elem} for elem in probs]\n",
        "    return answer"
      ],
      "metadata": {
        "id": "tpRzKjXWfWRq"
      },
      "execution_count": null,
      "outputs": []
    },
    {
      "cell_type": "code",
      "source": [
        "eval('Que bueno!')"
      ],
      "metadata": {
        "colab": {
          "base_uri": "https://localhost:8080/",
          "height": 35
        },
        "id": "S3X50jsbgR95",
        "outputId": "230d6082-2ef5-40ff-f7fc-c7e8633d8eaa"
      },
      "execution_count": null,
      "outputs": [
        {
          "output_type": "display_data",
          "data": {
            "text/plain": [
              "<IPython.core.display.HTML object>"
            ],
            "text/html": []
          },
          "metadata": {}
        },
        {
          "output_type": "execute_result",
          "data": {
            "text/plain": [
              "[{'positive': True, 'probs': array([0.00101912, 0.9989808 ], dtype=float32)}]"
            ]
          },
          "metadata": {},
          "execution_count": 13
        }
      ]
    },
    {
      "cell_type": "code",
      "source": [
        "eval('Que dolor!')"
      ],
      "metadata": {
        "colab": {
          "base_uri": "https://localhost:8080/",
          "height": 35
        },
        "id": "jBzGE4IJubpw",
        "outputId": "ebe75284-1124-4e35-f372-a01194618b0b"
      },
      "execution_count": null,
      "outputs": [
        {
          "output_type": "display_data",
          "data": {
            "text/plain": [
              "<IPython.core.display.HTML object>"
            ],
            "text/html": []
          },
          "metadata": {}
        },
        {
          "output_type": "execute_result",
          "data": {
            "text/plain": [
              "[{'positive': False, 'probs': array([0.99171406, 0.00828595], dtype=float32)}]"
            ]
          },
          "metadata": {},
          "execution_count": 14
        }
      ]
    },
    {
      "cell_type": "code",
      "source": [
        "eval('¡Me encanta el sol de la mañana!')"
      ],
      "metadata": {
        "colab": {
          "base_uri": "https://localhost:8080/",
          "height": 35
        },
        "id": "XnHGq9LK7yhe",
        "outputId": "386a0e8b-b6f3-46d9-d861-7c44ff43b164"
      },
      "execution_count": null,
      "outputs": [
        {
          "output_type": "display_data",
          "data": {
            "text/plain": [
              "<IPython.core.display.HTML object>"
            ],
            "text/html": []
          },
          "metadata": {}
        },
        {
          "output_type": "execute_result",
          "data": {
            "text/plain": [
              "[{'positive': True, 'probs': array([0.0010724 , 0.99892753], dtype=float32)}]"
            ]
          },
          "metadata": {},
          "execution_count": 15
        }
      ]
    },
    {
      "cell_type": "code",
      "source": [
        "eval('Siempre disfruto de un buen libro con una taza de té.')"
      ],
      "metadata": {
        "colab": {
          "base_uri": "https://localhost:8080/",
          "height": 35
        },
        "id": "FxvDNjvb7zJ2",
        "outputId": "560e02cb-5762-4895-dc0b-933b81f79b27"
      },
      "execution_count": null,
      "outputs": [
        {
          "output_type": "display_data",
          "data": {
            "text/plain": [
              "<IPython.core.display.HTML object>"
            ],
            "text/html": []
          },
          "metadata": {}
        },
        {
          "output_type": "execute_result",
          "data": {
            "text/plain": [
              "[{'positive': True, 'probs': array([0.00115178, 0.9988482 ], dtype=float32)}]"
            ]
          },
          "metadata": {},
          "execution_count": 16
        }
      ]
    },
    {
      "cell_type": "code",
      "source": [
        "eval('Este café está delicioso, ¡gracias por prepararlo!')"
      ],
      "metadata": {
        "colab": {
          "base_uri": "https://localhost:8080/",
          "height": 53
        },
        "id": "HubcSj417zok",
        "outputId": "0bca358e-fcb3-4883-ec8f-7ee9f83b7ea9"
      },
      "execution_count": null,
      "outputs": [
        {
          "output_type": "display_data",
          "data": {
            "text/plain": [
              "<IPython.core.display.HTML object>"
            ],
            "text/html": []
          },
          "metadata": {}
        },
        {
          "output_type": "execute_result",
          "data": {
            "text/plain": [
              "[{'positive': True,\n",
              "  'probs': array([9.079143e-04, 9.990921e-01], dtype=float32)}]"
            ]
          },
          "metadata": {},
          "execution_count": 17
        }
      ]
    },
    {
      "cell_type": "code",
      "source": [
        "eval('No soporto el ruido constante de la construcción.')"
      ],
      "metadata": {
        "colab": {
          "base_uri": "https://localhost:8080/",
          "height": 35
        },
        "id": "0rK2v5Ug7z9v",
        "outputId": "c40bd314-2617-4d70-fe82-6a33e5244c71"
      },
      "execution_count": null,
      "outputs": [
        {
          "output_type": "display_data",
          "data": {
            "text/plain": [
              "<IPython.core.display.HTML object>"
            ],
            "text/html": []
          },
          "metadata": {}
        },
        {
          "output_type": "execute_result",
          "data": {
            "text/plain": [
              "[{'positive': False, 'probs': array([0.99823254, 0.00176751], dtype=float32)}]"
            ]
          },
          "metadata": {},
          "execution_count": 18
        }
      ]
    },
    {
      "cell_type": "code",
      "source": [
        "eval('Este lugar me parece frío y desagradable.')"
      ],
      "metadata": {
        "colab": {
          "base_uri": "https://localhost:8080/",
          "height": 35
        },
        "id": "Fv_4k8a470VE",
        "outputId": "8b8b883a-ffb1-475a-b960-dc6407398c39"
      },
      "execution_count": null,
      "outputs": [
        {
          "output_type": "display_data",
          "data": {
            "text/plain": [
              "<IPython.core.display.HTML object>"
            ],
            "text/html": []
          },
          "metadata": {}
        },
        {
          "output_type": "execute_result",
          "data": {
            "text/plain": [
              "[{'positive': False, 'probs': array([0.9982181 , 0.00178184], dtype=float32)}]"
            ]
          },
          "metadata": {},
          "execution_count": 19
        }
      ]
    },
    {
      "cell_type": "code",
      "source": [
        "eval('Hemos perdido el tren por llegar tarde.')"
      ],
      "metadata": {
        "colab": {
          "base_uri": "https://localhost:8080/",
          "height": 35
        },
        "id": "poxucGx570q0",
        "outputId": "079a41ab-72c2-4343-de9d-4dd690c88083"
      },
      "execution_count": null,
      "outputs": [
        {
          "output_type": "display_data",
          "data": {
            "text/plain": [
              "<IPython.core.display.HTML object>"
            ],
            "text/html": []
          },
          "metadata": {}
        },
        {
          "output_type": "execute_result",
          "data": {
            "text/plain": [
              "[{'positive': False, 'probs': array([0.9974733 , 0.00252665], dtype=float32)}]"
            ]
          },
          "metadata": {},
          "execution_count": 20
        }
      ]
    },
    {
      "cell_type": "markdown",
      "source": [
        "Предложения с очевидным смыслом модель оценивает с легкостью."
      ],
      "metadata": {
        "id": "4NpoNIFPS4Hc"
      }
    },
    {
      "cell_type": "code",
      "source": [
        "eval('Terminé de leer el libro que me recomendaste.')"
      ],
      "metadata": {
        "colab": {
          "base_uri": "https://localhost:8080/",
          "height": 35
        },
        "id": "Np0jI9vJ709V",
        "outputId": "6772c1cd-966d-4363-a451-044d27391b91"
      },
      "execution_count": null,
      "outputs": [
        {
          "output_type": "display_data",
          "data": {
            "text/plain": [
              "<IPython.core.display.HTML object>"
            ],
            "text/html": []
          },
          "metadata": {}
        },
        {
          "output_type": "execute_result",
          "data": {
            "text/plain": [
              "[{'positive': True, 'probs': array([0.0021363, 0.9978637], dtype=float32)}]"
            ]
          },
          "metadata": {},
          "execution_count": 21
        }
      ]
    },
    {
      "cell_type": "markdown",
      "source": [
        "У этой фразы в определенном контексте мог бы быть и негативный смысл. Но в большинстве контекстов она скорее нейтральная. Но так как у нас нет такой категории, модели приходится выбирать из существующих двух."
      ],
      "metadata": {
        "id": "O6Hr5re_TDkT"
      }
    },
    {
      "cell_type": "code",
      "source": [
        "eval('El clima hoy es… interesante.')"
      ],
      "metadata": {
        "colab": {
          "base_uri": "https://localhost:8080/",
          "height": 35
        },
        "id": "1FJwkoh_71NL",
        "outputId": "0c63f158-e48c-4094-ba2d-c3ad069376f8"
      },
      "execution_count": null,
      "outputs": [
        {
          "output_type": "display_data",
          "data": {
            "text/plain": [
              "<IPython.core.display.HTML object>"
            ],
            "text/html": []
          },
          "metadata": {}
        },
        {
          "output_type": "execute_result",
          "data": {
            "text/plain": [
              "[{'positive': True, 'probs': array([0.00137173, 0.99862826], dtype=float32)}]"
            ]
          },
          "metadata": {},
          "execution_count": 22
        }
      ]
    },
    {
      "cell_type": "markdown",
      "source": [
        "Сарказм модель не понимает."
      ],
      "metadata": {
        "id": "Mxc5vrVzTn5W"
      }
    },
    {
      "cell_type": "code",
      "source": [
        "eval('Finalmente tengo tiempo libre.')"
      ],
      "metadata": {
        "colab": {
          "base_uri": "https://localhost:8080/",
          "height": 35
        },
        "id": "z0pQcvHR71dN",
        "outputId": "78a7688b-9568-4528-cdb6-e13ac5bd47a8"
      },
      "execution_count": null,
      "outputs": [
        {
          "output_type": "display_data",
          "data": {
            "text/plain": [
              "<IPython.core.display.HTML object>"
            ],
            "text/html": []
          },
          "metadata": {}
        },
        {
          "output_type": "execute_result",
          "data": {
            "text/plain": [
              "[{'positive': True, 'probs': array([0.00175437, 0.9982456 ], dtype=float32)}]"
            ]
          },
          "metadata": {},
          "execution_count": 23
        }
      ]
    },
    {
      "cell_type": "markdown",
      "source": [
        "В некоторых контекстах (увольнение) может иметь негативный окрас, но чаще, как и оценено моделью, положительное."
      ],
      "metadata": {
        "id": "5IK-LHywTtGo"
      }
    },
    {
      "cell_type": "code",
      "source": [
        "eval('Tu forma de resolver problemas es única.')"
      ],
      "metadata": {
        "colab": {
          "base_uri": "https://localhost:8080/",
          "height": 35
        },
        "id": "MJks-5Ew71tK",
        "outputId": "0e184cfa-3b13-4b79-d5d4-279bf37b578e"
      },
      "execution_count": null,
      "outputs": [
        {
          "output_type": "display_data",
          "data": {
            "text/plain": [
              "<IPython.core.display.HTML object>"
            ],
            "text/html": []
          },
          "metadata": {}
        },
        {
          "output_type": "execute_result",
          "data": {
            "text/plain": [
              "[{'positive': True, 'probs': array([0.00220468, 0.99779534], dtype=float32)}]"
            ]
          },
          "metadata": {},
          "execution_count": 24
        }
      ]
    },
    {
      "cell_type": "markdown",
      "source": [
        "И опять же можно сказать, что сарказм модель не понимает."
      ],
      "metadata": {
        "id": "GrIt3EsGUF8l"
      }
    },
    {
      "cell_type": "markdown",
      "source": [
        "Итак, модель справляется с более очевидными предложениями, однако, она совсем, в упор, не понимает сарказма и, вероятно (но не точно), смотрит на ключевые слова."
      ],
      "metadata": {
        "id": "v1QzfpYgUKQu"
      }
    }
  ]
}